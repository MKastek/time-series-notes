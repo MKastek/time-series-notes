{
  "nbformat": 4,
  "nbformat_minor": 0,
  "metadata": {
    "colab": {
      "provenance": [],
      "authorship_tag": "ABX9TyPvQcWrm8vlLiiCTuxtp9sh",
      "include_colab_link": true
    },
    "kernelspec": {
      "name": "python3",
      "display_name": "Python 3"
    },
    "language_info": {
      "name": "python"
    }
  },
  "cells": [
    {
      "cell_type": "markdown",
      "metadata": {
        "id": "view-in-github",
        "colab_type": "text"
      },
      "source": [
        "<a href=\"https://colab.research.google.com/github/MKastek/time-series-notes/blob/main/anomaly_detection.ipynb\" target=\"_parent\"><img src=\"https://colab.research.google.com/assets/colab-badge.svg\" alt=\"Open In Colab\"/></a>"
      ]
    },
    {
      "cell_type": "markdown",
      "source": [
        "### Anomaly detection"
      ],
      "metadata": {
        "id": "qy1ZGrji12BG"
      }
    },
    {
      "cell_type": "code",
      "source": [],
      "metadata": {
        "id": "r-2pJujH13WY"
      },
      "execution_count": null,
      "outputs": []
    }
  ]
}